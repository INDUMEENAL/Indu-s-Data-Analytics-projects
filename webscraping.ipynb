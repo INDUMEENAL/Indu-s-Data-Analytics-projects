{
  "nbformat": 4,
  "nbformat_minor": 0,
  "metadata": {
    "colab": {
      "provenance": [],
      "authorship_tag": "ABX9TyMYMj/7LRGf97I1/SCjEcnc",
      "include_colab_link": true
    },
    "kernelspec": {
      "name": "python3",
      "display_name": "Python 3"
    },
    "language_info": {
      "name": "python"
    }
  },
  "cells": [
    {
      "cell_type": "markdown",
      "metadata": {
        "id": "view-in-github",
        "colab_type": "text"
      },
      "source": [
        "<a href=\"https://colab.research.google.com/github/INDUMEENAL/Indu-s-Data-Analytics-projects/blob/main/webscraping.ipynb\" target=\"_parent\"><img src=\"https://colab.research.google.com/assets/colab-badge.svg\" alt=\"Open In Colab\"/></a>"
      ]
    },
    {
      "cell_type": "code",
      "execution_count": 20,
      "metadata": {
        "id": "yyxLHHl-xVoo"
      },
      "outputs": [],
      "source": [
        "import requests\n",
        "from bs4 import BeautifulSoup\n",
        "import pandas as pd\n",
        "import os"
      ]
    },
    {
      "cell_type": "code",
      "source": [
        "urlnew = ['https://www.espncricinfo.com/series/indian-premier-league-2022-1298423/kolkata-knight-riders-vs-punjab-kings-8th-match-1304054/full-scorecard']"
      ],
      "metadata": {
        "id": "WRj_gtqc16Ch"
      },
      "execution_count": 21,
      "outputs": []
    },
    {
      "cell_type": "code",
      "source": [
        "def toss(url):\n",
        "    webpage = requests.get(url)\n",
        "    web = webpage.content\n",
        "    soup=BeautifulSoup(web,'html.parser')\n",
        "    for m in soup.find_all('span'):\n",
        "      n=m.text\n",
        "      if 'elected' in n:\n",
        "        print(n)\n",
        ""
      ],
      "metadata": {
        "id": "F2SvC1mF2eXf"
      },
      "execution_count": 26,
      "outputs": []
    },
    {
      "cell_type": "code",
      "source": [
        "toss=[toss(url) for url in urlnew]"
      ],
      "metadata": {
        "colab": {
          "base_uri": "https://localhost:8080/"
        },
        "id": "PQkMe4yc2s7R",
        "outputId": "a8d6d18e-72d3-48e9-df99-6443d701d1ab"
      },
      "execution_count": 27,
      "outputs": [
        {
          "output_type": "stream",
          "name": "stdout",
          "text": [
            "Kolkata Knight Riders, elected to field first\n"
          ]
        }
      ]
    },
    {
      "cell_type": "code",
      "source": [
        "def matchwinner(url):\n",
        "    webpage=requests.get(url)\n",
        "    web=webpage.content\n",
        "    soup=BeautifulSoup(web,\"html.parser\")\n",
        "    for m in soup.find_all(\"p\", {\"class\" : \"ds-text-tight-s\"}):\n",
        "        for span in m.find_all(\"span\"):\n",
        "            print(span.text)\n",
        "\n"
      ],
      "metadata": {
        "id": "ALx3v6DgDYl5"
      },
      "execution_count": 38,
      "outputs": []
    },
    {
      "cell_type": "code",
      "source": [
        "winner=[matchwinner(url) for url in urlnew]"
      ],
      "metadata": {
        "colab": {
          "base_uri": "https://localhost:8080/"
        },
        "id": "VGkq_7RbFhPi",
        "outputId": "4b02bfea-8441-4c1e-afaa-b550cb7b2430"
      },
      "execution_count": 39,
      "outputs": [
        {
          "output_type": "stream",
          "name": "stdout",
          "text": [
            "KKR won by 6 wickets (with 33 balls remaining)\n"
          ]
        }
      ]
    },
    {
      "cell_type": "code",
      "source": [
        "def scores(url):\n",
        "    webpage=requests.get(url)\n",
        "    web=webpage.content\n",
        "    soup=BeautifulSoup(web,\"html.parser\")\n",
        "    for m in soup.find_all(\"div\", {\"class\" : \"ds-text-compact-m\"}):\n",
        "        for s in m.find_all(\"strong\"):\n",
        "            print(s.text)\n",
        "score=[scores(url) for url in urlnew]"
      ],
      "metadata": {
        "colab": {
          "base_uri": "https://localhost:8080/"
        },
        "id": "0WwQ206EIIdC",
        "outputId": "c15988d5-8e21-4143-ba4b-2446dce5e07b"
      },
      "execution_count": 40,
      "outputs": [
        {
          "output_type": "stream",
          "name": "stdout",
          "text": [
            "137\n",
            "141/4\n"
          ]
        }
      ]
    },
    {
      "cell_type": "code",
      "source": [
        "def teamnames(url):\n",
        "    webpage=requests.get(url)\n",
        "    web=webpage.content\n",
        "    soup=BeautifulSoup(web,\"html.parser\")\n",
        "    for m in soup.find_all(\"span\", {\"class\" : \"ds-text-tight-l\"}):\n",
        "          text = m.text\n",
        "          if text != 'Unlocking the magic of Statsguru':\n",
        "            print(text)\n",
        "\n",
        "teams=[teamnames(url) for url in urlnew]"
      ],
      "metadata": {
        "colab": {
          "base_uri": "https://localhost:8080/"
        },
        "id": "IhmMF0G5K9C3",
        "outputId": "77d52897-605e-4c74-e0d6-d34dc767cef7"
      },
      "execution_count": 44,
      "outputs": [
        {
          "output_type": "stream",
          "name": "stdout",
          "text": [
            "Punjab Kings\n",
            "Kolkata Knight Riders\n"
          ]
        }
      ]
    }
  ]
}